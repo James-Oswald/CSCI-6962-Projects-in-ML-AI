{
 "cells": [
  {
   "cell_type": "markdown",
   "metadata": {},
   "source": [
    "## Data Preprocessing"
   ]
  },
  {
   "cell_type": "code",
   "execution_count": 27,
   "metadata": {},
   "outputs": [],
   "source": [
    "\n",
    "import numpy as np\n",
    "import pandas as pd\n",
    "import math\n",
    "\n",
    "data = pd.read_csv('titanic.csv')\n",
    "x = data[[\"Age\", \"Fare\"]].to_numpy()\n",
    "y = data[\"Survived\"].to_numpy()\n",
    "datalen = len(x)\n",
    "split_percent = 0.10    #10% used for testing data \n",
    "split = math.floor(datalen*split_percent)\n",
    "\n",
    "#no need to shuffle, data already randomized in the .csv file\n",
    "x_test = x[:split].T\n",
    "x_train = x[split:].T\n",
    "y_test = y[:split]\n",
    "y_train = y[split:]\n",
    "\n",
    "#print(x_test)\n"
   ]
  },
  {
   "cell_type": "markdown",
   "metadata": {},
   "source": [
    "## "
   ]
  },
  {
   "cell_type": "markdown",
   "metadata": {},
   "source": []
  },
  {
   "cell_type": "code",
   "execution_count": 29,
   "metadata": {},
   "outputs": [
    {
     "name": "stdout",
     "output_type": "stream",
     "text": [
      "Epoch: 0, Cost: -29.30941124844555\n",
      "Epoch: 1, Cost: -24.468695789686333\n",
      "Epoch: 2, Cost: -19.627982430618157\n",
      "Epoch: 3, Cost: -14.787289873332464\n",
      "Epoch: 4, Cost: -9.946914969504398\n",
      "Epoch: 5, Cost: -5.1168324318294856\n",
      "Epoch: 6, Cost: -1.0881186228865858\n",
      "Epoch: 7, Cost: -0.9222383659176796\n",
      "Epoch: 8, Cost: -1.558910328959825\n",
      "Epoch: 9, Cost: nan\n"
     ]
    },
    {
     "name": "stderr",
     "output_type": "stream",
     "text": [
      "/tmp/ipykernel_3048205/1849891159.py:16: RuntimeWarning: divide by zero encountered in log\n",
      "  return -(Y * np.log(A) + (1 - Y) * np.log(1 - A))\n",
      "/tmp/ipykernel_3048205/1849891159.py:16: RuntimeWarning: invalid value encountered in multiply\n",
      "  return -(Y * np.log(A) + (1 - Y) * np.log(1 - A))\n"
     ]
    }
   ],
   "source": [
    "\n",
    "#hyperparams\n",
    "epochs = 10\n",
    "learning_rate = 0.01\n",
    "\n",
    "#init our weight vector based on how many features we have in the data\n",
    "weights : \"np.ndarray[np.floating]\" = np.random.normal(size=x.shape[1])\n",
    "bias : \"np.floating\" = np.random.normal()\n",
    "\n",
    "def sigmoid(X):\n",
    "    return 1/(1 + np.exp(-X))\n",
    "\n",
    "def forward(X, weights, bias):\n",
    "    return sigmoid(np.dot(weights.T, X) + bias)\n",
    "\n",
    "def loss(Y, A):\n",
    "    return -(Y * np.log(A) + (1 - Y) * np.log(1 - A))\n",
    "\n",
    "def cost(Y, A):\n",
    "    return -1/len(A) * np.sum(loss(Y, A))\n",
    "\n",
    "#partial derivitive of cost with respect to weights\n",
    "def dCostWRTw(X, A, Y):\n",
    "    return np.dot(X, (A-Y).T)/len(A)\n",
    "\n",
    "#partial derivitive of cost with respect to bias\n",
    "def dCostWRTb(A, Y):\n",
    "    return np.sum(A-Y)/len(A)\n",
    "\n",
    "\n",
    "#training loop\n",
    "for epoch in range(epochs):\n",
    "    A = forward(x_train, weights, bias)\n",
    "    c = cost(y_train, A)\n",
    "    print(\"Epoch: \" + str(epoch) + \", Cost: \" + str(c))\n",
    "    dw = dCostWRTw(x_train, A, y_train)\n",
    "    db = dCostWRTb(A, y_train)\n",
    "    weights = weights - learning_rate * dw\n",
    "    bias = bias - learning_rate * db\n",
    "\n",
    "\n"
   ]
  }
 ],
 "metadata": {
  "interpreter": {
   "hash": "e7370f93d1d0cde622a1f8e1c04877d8463912d04d973331ad4851f04de6915a"
  },
  "kernelspec": {
   "display_name": "Python 3.10.4 64-bit",
   "language": "python",
   "name": "python3"
  },
  "language_info": {
   "codemirror_mode": {
    "name": "ipython",
    "version": 3
   },
   "file_extension": ".py",
   "mimetype": "text/x-python",
   "name": "python",
   "nbconvert_exporter": "python",
   "pygments_lexer": "ipython3",
   "version": "3.10.6"
  },
  "orig_nbformat": 4
 },
 "nbformat": 4,
 "nbformat_minor": 2
}
