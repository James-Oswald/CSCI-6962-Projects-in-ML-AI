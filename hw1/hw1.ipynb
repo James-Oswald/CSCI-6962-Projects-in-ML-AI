{
 "cells": [
  {
   "cell_type": "markdown",
   "metadata": {},
   "source": [
    "# Task 1 (10 Points)\n",
    "\n",
    "I would like to use logistic regression to aid in predicting whether finding a proof in first order logic is able to be found in a reasonable amount of time. This is a relevant issue as the problem of finding a proof in first order logic with arbitrary premises and conclusions is undecidable. Particularly in the case of logic based AI agents with a first order reasoning core, we would like a way to determine if it is worth spending resources finding a proof (other than trying to find a proof until a threshold is reached). By creating a predictor that attempts to determine if a proof is able to be found in a reasonable amount of time, Our agent is able to prioritize tasks that are likely to be provable. Logistic regression is a good choice here because it is a binary classification task from continuous data; That is, of whether a proof can be found in a reasonable amount of time, Yes or No, from continuous statistical features of proof tasks. "
   ]
  },
  {
   "cell_type": "markdown",
   "metadata": {},
   "source": [
    "# Task 2 (20 Points)\n",
    "For my task I have selected the First-order theorem proving Data Set publicly available at [https://archive.ics.uci.edu/ml/datasets/First-order+theorem+proving](https://archive.ics.uci.edu/ml/datasets/First-order+theorem+proving). This dataset provides various statistical heuristics over first order formulae such as (Fraction of clauses that are Horn clauses, Average clause length, Maximum clause depth, etc.) as well as whether a proof was able to be found in under 100 seconds, which will be our target. See paper at [https://www.cl.cam.ac.uk/~lp15/papers/Reports/Bridge-ml.pdf](https://www.cl.cam.ac.uk/~lp15/papers/Reports/Bridge-ml.pdf). The data has already been split into a training and testing set for us. \n"
   ]
  },
  {
   "cell_type": "code",
   "execution_count": 2,
   "metadata": {},
   "outputs": [
    {
     "data": {
      "text/html": [
       "<div>\n",
       "<style scoped>\n",
       "    .dataframe tbody tr th:only-of-type {\n",
       "        vertical-align: middle;\n",
       "    }\n",
       "\n",
       "    .dataframe tbody tr th {\n",
       "        vertical-align: top;\n",
       "    }\n",
       "\n",
       "    .dataframe thead th {\n",
       "        text-align: right;\n",
       "    }\n",
       "</style>\n",
       "<table border=\"1\" class=\"dataframe\">\n",
       "  <thead>\n",
       "    <tr style=\"text-align: right;\">\n",
       "      <th></th>\n",
       "      <th>x_0</th>\n",
       "      <th>x_1</th>\n",
       "      <th>x_2</th>\n",
       "      <th>x_3</th>\n",
       "      <th>x_4</th>\n",
       "      <th>x_5</th>\n",
       "      <th>x_6</th>\n",
       "      <th>x_7</th>\n",
       "      <th>x_8</th>\n",
       "      <th>x_9</th>\n",
       "      <th>...</th>\n",
       "      <th>x_47</th>\n",
       "      <th>x_48</th>\n",
       "      <th>x_49</th>\n",
       "      <th>x_50</th>\n",
       "      <th>x_51</th>\n",
       "      <th>x_52</th>\n",
       "      <th>x_53</th>\n",
       "      <th>x_54</th>\n",
       "      <th>x_55</th>\n",
       "      <th>y</th>\n",
       "    </tr>\n",
       "  </thead>\n",
       "  <tbody>\n",
       "    <tr>\n",
       "      <th>0</th>\n",
       "      <td>1.4895</td>\n",
       "      <td>0.81688</td>\n",
       "      <td>2.1168</td>\n",
       "      <td>1.7836</td>\n",
       "      <td>1.5346</td>\n",
       "      <td>-0.30543</td>\n",
       "      <td>-1.2477</td>\n",
       "      <td>-0.14537</td>\n",
       "      <td>-0.59356</td>\n",
       "      <td>-0.23316</td>\n",
       "      <td>...</td>\n",
       "      <td>-0.48278</td>\n",
       "      <td>1.4630</td>\n",
       "      <td>0.27015</td>\n",
       "      <td>-1.5559</td>\n",
       "      <td>-1</td>\n",
       "      <td>-1</td>\n",
       "      <td>-1</td>\n",
       "      <td>-1</td>\n",
       "      <td>-1</td>\n",
       "      <td>1</td>\n",
       "    </tr>\n",
       "    <tr>\n",
       "      <th>1</th>\n",
       "      <td>1.4895</td>\n",
       "      <td>0.81688</td>\n",
       "      <td>2.1168</td>\n",
       "      <td>1.7895</td>\n",
       "      <td>1.5403</td>\n",
       "      <td>-0.31850</td>\n",
       "      <td>-1.2477</td>\n",
       "      <td>-0.14537</td>\n",
       "      <td>-0.59356</td>\n",
       "      <td>-0.23316</td>\n",
       "      <td>...</td>\n",
       "      <td>-0.48278</td>\n",
       "      <td>1.4801</td>\n",
       "      <td>0.21361</td>\n",
       "      <td>-1.5559</td>\n",
       "      <td>1</td>\n",
       "      <td>-1</td>\n",
       "      <td>-1</td>\n",
       "      <td>-1</td>\n",
       "      <td>-1</td>\n",
       "      <td>-1</td>\n",
       "    </tr>\n",
       "    <tr>\n",
       "      <th>2</th>\n",
       "      <td>1.4895</td>\n",
       "      <td>0.81688</td>\n",
       "      <td>2.1168</td>\n",
       "      <td>1.7836</td>\n",
       "      <td>1.5346</td>\n",
       "      <td>-0.30543</td>\n",
       "      <td>-1.2477</td>\n",
       "      <td>-0.14537</td>\n",
       "      <td>-0.59356</td>\n",
       "      <td>-0.23316</td>\n",
       "      <td>...</td>\n",
       "      <td>-0.48278</td>\n",
       "      <td>1.4744</td>\n",
       "      <td>0.23245</td>\n",
       "      <td>-1.5559</td>\n",
       "      <td>-1</td>\n",
       "      <td>-1</td>\n",
       "      <td>-1</td>\n",
       "      <td>-1</td>\n",
       "      <td>-1</td>\n",
       "      <td>1</td>\n",
       "    </tr>\n",
       "    <tr>\n",
       "      <th>3</th>\n",
       "      <td>1.4895</td>\n",
       "      <td>0.81688</td>\n",
       "      <td>2.1168</td>\n",
       "      <td>1.7836</td>\n",
       "      <td>1.5346</td>\n",
       "      <td>-0.30543</td>\n",
       "      <td>-1.2477</td>\n",
       "      <td>-0.14537</td>\n",
       "      <td>-0.59356</td>\n",
       "      <td>-0.23316</td>\n",
       "      <td>...</td>\n",
       "      <td>-0.48278</td>\n",
       "      <td>1.4401</td>\n",
       "      <td>0.34553</td>\n",
       "      <td>-1.5559</td>\n",
       "      <td>-1</td>\n",
       "      <td>-1</td>\n",
       "      <td>-1</td>\n",
       "      <td>-1</td>\n",
       "      <td>-1</td>\n",
       "      <td>1</td>\n",
       "    </tr>\n",
       "    <tr>\n",
       "      <th>4</th>\n",
       "      <td>1.4895</td>\n",
       "      <td>0.81688</td>\n",
       "      <td>2.1168</td>\n",
       "      <td>1.7836</td>\n",
       "      <td>1.5346</td>\n",
       "      <td>-0.30543</td>\n",
       "      <td>-1.2477</td>\n",
       "      <td>-0.14537</td>\n",
       "      <td>-0.59356</td>\n",
       "      <td>-0.23316</td>\n",
       "      <td>...</td>\n",
       "      <td>-0.48278</td>\n",
       "      <td>1.4458</td>\n",
       "      <td>0.32669</td>\n",
       "      <td>-1.5559</td>\n",
       "      <td>-1</td>\n",
       "      <td>-1</td>\n",
       "      <td>-1</td>\n",
       "      <td>-1</td>\n",
       "      <td>-1</td>\n",
       "      <td>1</td>\n",
       "    </tr>\n",
       "  </tbody>\n",
       "</table>\n",
       "<p>5 rows × 57 columns</p>\n",
       "</div>"
      ],
      "text/plain": [
       "      x_0      x_1     x_2     x_3     x_4      x_5     x_6      x_7      x_8  \\\n",
       "0  1.4895  0.81688  2.1168  1.7836  1.5346 -0.30543 -1.2477 -0.14537 -0.59356   \n",
       "1  1.4895  0.81688  2.1168  1.7895  1.5403 -0.31850 -1.2477 -0.14537 -0.59356   \n",
       "2  1.4895  0.81688  2.1168  1.7836  1.5346 -0.30543 -1.2477 -0.14537 -0.59356   \n",
       "3  1.4895  0.81688  2.1168  1.7836  1.5346 -0.30543 -1.2477 -0.14537 -0.59356   \n",
       "4  1.4895  0.81688  2.1168  1.7836  1.5346 -0.30543 -1.2477 -0.14537 -0.59356   \n",
       "\n",
       "       x_9  ...     x_47    x_48     x_49    x_50  x_51  x_52  x_53  x_54  \\\n",
       "0 -0.23316  ... -0.48278  1.4630  0.27015 -1.5559    -1    -1    -1    -1   \n",
       "1 -0.23316  ... -0.48278  1.4801  0.21361 -1.5559     1    -1    -1    -1   \n",
       "2 -0.23316  ... -0.48278  1.4744  0.23245 -1.5559    -1    -1    -1    -1   \n",
       "3 -0.23316  ... -0.48278  1.4401  0.34553 -1.5559    -1    -1    -1    -1   \n",
       "4 -0.23316  ... -0.48278  1.4458  0.32669 -1.5559    -1    -1    -1    -1   \n",
       "\n",
       "   x_55  y  \n",
       "0    -1  1  \n",
       "1    -1 -1  \n",
       "2    -1  1  \n",
       "3    -1  1  \n",
       "4    -1  1  \n",
       "\n",
       "[5 rows x 57 columns]"
      ]
     },
     "execution_count": 2,
     "metadata": {},
     "output_type": "execute_result"
    }
   ],
   "source": [
    "import pandas as pd\n",
    "names=[f\"x_{i}\" for i in range(56)] + [\"y\"] #names for our cols\n",
    "train_data = pd.read_csv('ml-prove/train.csv', header=None, names=names)\n",
    "test_data = pd.read_csv('ml-prove/test.csv', header=None, names=names)\n",
    "train_data.head()"
   ]
  },
  {
   "cell_type": "markdown",
   "metadata": {},
   "source": [
    "We investigate the data with `.info()` to check if we need to do any cleaning."
   ]
  },
  {
   "cell_type": "code",
   "execution_count": 3,
   "metadata": {},
   "outputs": [
    {
     "name": "stdout",
     "output_type": "stream",
     "text": [
      "<class 'pandas.core.frame.DataFrame'>\n",
      "RangeIndex: 3059 entries, 0 to 3058\n",
      "Data columns (total 57 columns):\n",
      " #   Column  Non-Null Count  Dtype  \n",
      "---  ------  --------------  -----  \n",
      " 0   x_0     3059 non-null   float64\n",
      " 1   x_1     3059 non-null   float64\n",
      " 2   x_2     3059 non-null   float64\n",
      " 3   x_3     3059 non-null   float64\n",
      " 4   x_4     3059 non-null   float64\n",
      " 5   x_5     3059 non-null   float64\n",
      " 6   x_6     3059 non-null   float64\n",
      " 7   x_7     3059 non-null   float64\n",
      " 8   x_8     3059 non-null   float64\n",
      " 9   x_9     3059 non-null   float64\n",
      " 10  x_10    3059 non-null   float64\n",
      " 11  x_11    3059 non-null   float64\n",
      " 12  x_12    3059 non-null   float64\n",
      " 13  x_13    3059 non-null   float64\n",
      " 14  x_14    3059 non-null   float64\n",
      " 15  x_15    3059 non-null   float64\n",
      " 16  x_16    3059 non-null   float64\n",
      " 17  x_17    3059 non-null   float64\n",
      " 18  x_18    3059 non-null   float64\n",
      " 19  x_19    3059 non-null   float64\n",
      " 20  x_20    3059 non-null   float64\n",
      " 21  x_21    3059 non-null   float64\n",
      " 22  x_22    3059 non-null   float64\n",
      " 23  x_23    3059 non-null   float64\n",
      " 24  x_24    3059 non-null   float64\n",
      " 25  x_25    3059 non-null   float64\n",
      " 26  x_26    3059 non-null   float64\n",
      " 27  x_27    3059 non-null   float64\n",
      " 28  x_28    3059 non-null   float64\n",
      " 29  x_29    3059 non-null   float64\n",
      " 30  x_30    3059 non-null   float64\n",
      " 31  x_31    3059 non-null   float64\n",
      " 32  x_32    3059 non-null   float64\n",
      " 33  x_33    3059 non-null   float64\n",
      " 34  x_34    3059 non-null   float64\n",
      " 35  x_35    3059 non-null   float64\n",
      " 36  x_36    3059 non-null   float64\n",
      " 37  x_37    3059 non-null   float64\n",
      " 38  x_38    3059 non-null   float64\n",
      " 39  x_39    3059 non-null   float64\n",
      " 40  x_40    3059 non-null   float64\n",
      " 41  x_41    3059 non-null   float64\n",
      " 42  x_42    3059 non-null   float64\n",
      " 43  x_43    3059 non-null   float64\n",
      " 44  x_44    3059 non-null   float64\n",
      " 45  x_45    3059 non-null   float64\n",
      " 46  x_46    3059 non-null   float64\n",
      " 47  x_47    3059 non-null   float64\n",
      " 48  x_48    3059 non-null   float64\n",
      " 49  x_49    3059 non-null   float64\n",
      " 50  x_50    3059 non-null   float64\n",
      " 51  x_51    3059 non-null   int64  \n",
      " 52  x_52    3059 non-null   int64  \n",
      " 53  x_53    3059 non-null   int64  \n",
      " 54  x_54    3059 non-null   int64  \n",
      " 55  x_55    3059 non-null   int64  \n",
      " 56  y       3059 non-null   int64  \n",
      "dtypes: float64(51), int64(6)\n",
      "memory usage: 1.3 MB\n"
     ]
    }
   ],
   "source": [
    "train_data.info()"
   ]
  },
  {
   "cell_type": "markdown",
   "metadata": {},
   "source": [
    "We don’t have any missing values so cleanup is not necessary. The columns are described in `./ml-prove/bridge-holden-paulson-details.txt` and at [https://archive.ics.uci.edu/ml/datasets/First-order+theorem+proving](https://archive.ics.uci.edu/ml/datasets/First-order+theorem+proving). We are interested in the first 50 cols containing our statistical features of proof tasks, and the final col which is 1 if a proof was found in time and -1 otherwise.  We will convert the -1s in the final binary rows to a 0 since this is a better representation for \"false, a proof wasn't found in time\" than -1. We will remove unnecessary columns (51-55) which contain labels of which heuristic method was used to find the proof in under 100 seconds if one was found. We obviously don't want this in our dataset as 1) it has no relation to the structure of the proofs like the features from 0-50 and 2) directly correlates with what we want to predict as a proof being found is a prerequisite. \n",
    " "
   ]
  },
  {
   "cell_type": "code",
   "execution_count": 4,
   "metadata": {},
   "outputs": [
    {
     "data": {
      "text/html": [
       "<div>\n",
       "<style scoped>\n",
       "    .dataframe tbody tr th:only-of-type {\n",
       "        vertical-align: middle;\n",
       "    }\n",
       "\n",
       "    .dataframe tbody tr th {\n",
       "        vertical-align: top;\n",
       "    }\n",
       "\n",
       "    .dataframe thead th {\n",
       "        text-align: right;\n",
       "    }\n",
       "</style>\n",
       "<table border=\"1\" class=\"dataframe\">\n",
       "  <thead>\n",
       "    <tr style=\"text-align: right;\">\n",
       "      <th></th>\n",
       "      <th>x_0</th>\n",
       "      <th>x_1</th>\n",
       "      <th>x_2</th>\n",
       "      <th>x_3</th>\n",
       "      <th>x_4</th>\n",
       "      <th>x_5</th>\n",
       "      <th>x_6</th>\n",
       "      <th>x_7</th>\n",
       "      <th>x_8</th>\n",
       "      <th>x_9</th>\n",
       "      <th>...</th>\n",
       "      <th>x_42</th>\n",
       "      <th>x_43</th>\n",
       "      <th>x_44</th>\n",
       "      <th>x_45</th>\n",
       "      <th>x_46</th>\n",
       "      <th>x_47</th>\n",
       "      <th>x_48</th>\n",
       "      <th>x_49</th>\n",
       "      <th>x_50</th>\n",
       "      <th>y</th>\n",
       "    </tr>\n",
       "  </thead>\n",
       "  <tbody>\n",
       "    <tr>\n",
       "      <th>0</th>\n",
       "      <td>1.4895</td>\n",
       "      <td>0.81688</td>\n",
       "      <td>2.1168</td>\n",
       "      <td>1.7836</td>\n",
       "      <td>1.5346</td>\n",
       "      <td>-0.30543</td>\n",
       "      <td>-1.2477</td>\n",
       "      <td>-0.14537</td>\n",
       "      <td>-0.59356</td>\n",
       "      <td>-0.23316</td>\n",
       "      <td>...</td>\n",
       "      <td>0.026975</td>\n",
       "      <td>1.8323</td>\n",
       "      <td>0.97743</td>\n",
       "      <td>2.6676</td>\n",
       "      <td>1.6803</td>\n",
       "      <td>-0.48278</td>\n",
       "      <td>1.4630</td>\n",
       "      <td>0.27015</td>\n",
       "      <td>-1.5559</td>\n",
       "      <td>1</td>\n",
       "    </tr>\n",
       "    <tr>\n",
       "      <th>1</th>\n",
       "      <td>1.4895</td>\n",
       "      <td>0.81688</td>\n",
       "      <td>2.1168</td>\n",
       "      <td>1.7895</td>\n",
       "      <td>1.5403</td>\n",
       "      <td>-0.31850</td>\n",
       "      <td>-1.2477</td>\n",
       "      <td>-0.14537</td>\n",
       "      <td>-0.59356</td>\n",
       "      <td>-0.23316</td>\n",
       "      <td>...</td>\n",
       "      <td>0.026975</td>\n",
       "      <td>1.8323</td>\n",
       "      <td>0.97743</td>\n",
       "      <td>2.6676</td>\n",
       "      <td>1.6974</td>\n",
       "      <td>-0.48278</td>\n",
       "      <td>1.4801</td>\n",
       "      <td>0.21361</td>\n",
       "      <td>-1.5559</td>\n",
       "      <td>0</td>\n",
       "    </tr>\n",
       "    <tr>\n",
       "      <th>2</th>\n",
       "      <td>1.4895</td>\n",
       "      <td>0.81688</td>\n",
       "      <td>2.1168</td>\n",
       "      <td>1.7836</td>\n",
       "      <td>1.5346</td>\n",
       "      <td>-0.30543</td>\n",
       "      <td>-1.2477</td>\n",
       "      <td>-0.14537</td>\n",
       "      <td>-0.59356</td>\n",
       "      <td>-0.23316</td>\n",
       "      <td>...</td>\n",
       "      <td>0.026975</td>\n",
       "      <td>1.8323</td>\n",
       "      <td>0.97743</td>\n",
       "      <td>2.6676</td>\n",
       "      <td>1.6917</td>\n",
       "      <td>-0.48278</td>\n",
       "      <td>1.4744</td>\n",
       "      <td>0.23245</td>\n",
       "      <td>-1.5559</td>\n",
       "      <td>1</td>\n",
       "    </tr>\n",
       "    <tr>\n",
       "      <th>3</th>\n",
       "      <td>1.4895</td>\n",
       "      <td>0.81688</td>\n",
       "      <td>2.1168</td>\n",
       "      <td>1.7836</td>\n",
       "      <td>1.5346</td>\n",
       "      <td>-0.30543</td>\n",
       "      <td>-1.2477</td>\n",
       "      <td>-0.14537</td>\n",
       "      <td>-0.59356</td>\n",
       "      <td>-0.23316</td>\n",
       "      <td>...</td>\n",
       "      <td>0.026975</td>\n",
       "      <td>1.8323</td>\n",
       "      <td>0.97743</td>\n",
       "      <td>2.6676</td>\n",
       "      <td>1.6575</td>\n",
       "      <td>-0.48278</td>\n",
       "      <td>1.4401</td>\n",
       "      <td>0.34553</td>\n",
       "      <td>-1.5559</td>\n",
       "      <td>1</td>\n",
       "    </tr>\n",
       "    <tr>\n",
       "      <th>4</th>\n",
       "      <td>1.4895</td>\n",
       "      <td>0.81688</td>\n",
       "      <td>2.1168</td>\n",
       "      <td>1.7836</td>\n",
       "      <td>1.5346</td>\n",
       "      <td>-0.30543</td>\n",
       "      <td>-1.2477</td>\n",
       "      <td>-0.14537</td>\n",
       "      <td>-0.59356</td>\n",
       "      <td>-0.23316</td>\n",
       "      <td>...</td>\n",
       "      <td>0.026975</td>\n",
       "      <td>1.8323</td>\n",
       "      <td>0.97743</td>\n",
       "      <td>2.6676</td>\n",
       "      <td>1.6632</td>\n",
       "      <td>-0.48278</td>\n",
       "      <td>1.4458</td>\n",
       "      <td>0.32669</td>\n",
       "      <td>-1.5559</td>\n",
       "      <td>1</td>\n",
       "    </tr>\n",
       "  </tbody>\n",
       "</table>\n",
       "<p>5 rows × 52 columns</p>\n",
       "</div>"
      ],
      "text/plain": [
       "      x_0      x_1     x_2     x_3     x_4      x_5     x_6      x_7      x_8  \\\n",
       "0  1.4895  0.81688  2.1168  1.7836  1.5346 -0.30543 -1.2477 -0.14537 -0.59356   \n",
       "1  1.4895  0.81688  2.1168  1.7895  1.5403 -0.31850 -1.2477 -0.14537 -0.59356   \n",
       "2  1.4895  0.81688  2.1168  1.7836  1.5346 -0.30543 -1.2477 -0.14537 -0.59356   \n",
       "3  1.4895  0.81688  2.1168  1.7836  1.5346 -0.30543 -1.2477 -0.14537 -0.59356   \n",
       "4  1.4895  0.81688  2.1168  1.7836  1.5346 -0.30543 -1.2477 -0.14537 -0.59356   \n",
       "\n",
       "       x_9  ...      x_42    x_43     x_44    x_45    x_46     x_47    x_48  \\\n",
       "0 -0.23316  ...  0.026975  1.8323  0.97743  2.6676  1.6803 -0.48278  1.4630   \n",
       "1 -0.23316  ...  0.026975  1.8323  0.97743  2.6676  1.6974 -0.48278  1.4801   \n",
       "2 -0.23316  ...  0.026975  1.8323  0.97743  2.6676  1.6917 -0.48278  1.4744   \n",
       "3 -0.23316  ...  0.026975  1.8323  0.97743  2.6676  1.6575 -0.48278  1.4401   \n",
       "4 -0.23316  ...  0.026975  1.8323  0.97743  2.6676  1.6632 -0.48278  1.4458   \n",
       "\n",
       "      x_49    x_50  y  \n",
       "0  0.27015 -1.5559  1  \n",
       "1  0.21361 -1.5559  0  \n",
       "2  0.23245 -1.5559  1  \n",
       "3  0.34553 -1.5559  1  \n",
       "4  0.32669 -1.5559  1  \n",
       "\n",
       "[5 rows x 52 columns]"
      ]
     },
     "execution_count": 4,
     "metadata": {},
     "output_type": "execute_result"
    }
   ],
   "source": [
    "train_data.iloc[:,51:] = train_data.iloc[:,51:].replace(-1, 0)\n",
    "test_data.iloc[:,51:] = test_data.iloc[:,51:].replace(-1, 0)\n",
    "train_data = train_data.drop(columns=[\"x_51\", \"x_52\", \"x_53\", \"x_54\", \"x_55\"])\n",
    "test_data = test_data.drop(columns=[\"x_51\", \"x_52\", \"x_53\", \"x_54\", \"x_55\"])\n",
    "train_data.head()"
   ]
  },
  {
   "cell_type": "markdown",
   "metadata": {},
   "source": [
    "### Data Visualization \n",
    "\n",
    "I am only visualizing the training data since it has been broken out and the dataset creators have verified the test set does not significantly deviate from the train set. \n",
    "First, we check the feature correlations with both each other and the label of whether or not a proof is found in time by ploting a correlation matrix. Secondly, we look at ratio of times a proof was found to not found within the data to understand what the random baseline would be."
   ]
  },
  {
   "cell_type": "code",
   "execution_count": 95,
   "metadata": {},
   "outputs": [
    {
     "data": {
      "text/plain": [
       "([<matplotlib.patches.Wedge at 0x7f927bfd55d0>,\n",
       "  <matplotlib.patches.Wedge at 0x7f927bed2fb0>],\n",
       " [Text(-0.27222369987738304, 1.0657834007081686, '0'),\n",
       "  Text(0.2722236998773832, -1.0657834007081686, '1')],\n",
       " [Text(-0.14848565447857257, 0.5813364003862737, '58.0%'),\n",
       "  Text(0.14848565447857262, -0.5813364003862737, '42.0%')])"
      ]
     },
     "execution_count": 95,
     "metadata": {},
     "output_type": "execute_result"
    },
    {
     "data": {
      "image/png": "[encoded data removed]",
      "text/plain": [
       "<Figure size 1440x576 with 3 Axes>"
      ]
     },
     "metadata": {
      "needs_background": "light"
     },
     "output_type": "display_data"
    }
   ],
   "source": [
    "import seaborn as sns\n",
    "import matplotlib.pyplot as plt\n",
    "\n",
    "fig, ax = plt.subplots(ncols=2, figsize=(20,8))\n",
    "sns.heatmap(train_data.corr().abs(),annot=False, ax=ax[0], cmap='rocket_r')\n",
    "ax[1].pie(x=train_data.y.value_counts(), labels=train_data.y.value_counts().index, autopct='%1.1f%%')"
   ]
  },
  {
   "cell_type": "markdown",
   "metadata": {},
   "source": [
    "### Data Analysis \n",
    "The correlation matrix shows there is no super strong correlations between any of our variables and what we are trying to predict, just a few weakly positive correlations. For the composition of our binary labels, there are slightly more proofs for which no solution was found within the time limit. "
   ]
  },
  {
   "cell_type": "markdown",
   "metadata": {},
   "source": [
    "# Task 3 (35 points): Implementations of Logistic Regression\n",
    "\n",
    "### Helper Funcs"
   ]
  },
  {
   "cell_type": "code",
   "execution_count": 22,
   "metadata": {},
   "outputs": [],
   "source": [
    "#Helper functions\n",
    "\n",
    "import numpy as np\n",
    "\n",
    "x_train = train_data.to_numpy()[:, :-1].T\n",
    "y_train = train_data.y.to_numpy() \n",
    "x_test = test_data.to_numpy()[:, :-1].T\n",
    "y_test = test_data.y.to_numpy() \n",
    "\n",
    "#compute the sigmoid of the input X\n",
    "#when X is an array, returns the array with sigmoid applied elementwise\n",
    "def sigmoid(X):\n",
    "    return 1/(1+np.exp(-X))\n",
    "\n",
    "# X: Model input\n",
    "def forward(X, weights, bias):\n",
    "    return sigmoid(np.dot(weights.T, X) + bias)\n",
    "\n",
    "#compute individual loss for each sample (the negitive has been factored out into the cost)\n",
    "#(in this case array of individual losses for each sample)\n",
    "# Y: Labels, A: Model Outputs\n",
    "def loss(Y, A):\n",
    "    return Y*np.log(A) + (1-Y)*np.log(1-A)\n",
    "\n",
    "#Compute cost\n",
    "# Y: Labels, A: Model Outputs\n",
    "def cost(Y, A):\n",
    "    return -1/len(A) * np.sum(loss(Y, A))\n",
    "\n",
    "#partial derivitive of cost with respect to weights\n",
    "def dCostWRTw(X, A, Y):\n",
    "    return np.dot(X, (A-Y).T)/len(A)\n",
    "\n",
    "#partial derivitive of cost with respect to bias\n",
    "def dCostWRTb(A, Y):\n",
    "    return np.sum(A-Y)/len(A)\n",
    "\n",
    "#Predict the binary class from the continuous model outputs\n",
    "# X: Model input\n",
    "def predict(X, weights, bias):\n",
    "    A = forward(X, weights, bias)\n",
    "    # Convert the entries of a into 0 (if activation <= 0.5) or\n",
    "    # 1 (if activation > 0.5) and store the predictions in a vector.\n",
    "    p = np.copy(A)\n",
    "    p[p <= 0.5] = 0\n",
    "    p[p > 0.5] = 1\n",
    "    return p \n",
    "\n",
    "# Evaluate the predictions with respect to the labels and return the ratio of correct predictions to incorrect predictions\n",
    "def accuracy(predictions, labels):\n",
    "    return np.count_nonzero(predictions==labels)/len(predictions)\n",
    "\n",
    "\n",
    "def resetData():\n",
    "    x_train = train_data.to_numpy()[:, :-1].T\n",
    "    y_train = train_data.y.to_numpy() \n",
    "    x_test = test_data.to_numpy()[:, :-1].T\n",
    "    y_test = test_data.y.to_numpy() \n",
    "\n",
    "def createMetrics():\n",
    "    return {\"costs\":[], \"train_acc\":[], \"test_acc\":[]}\n",
    "\n",
    "def updateMetrics(metrics, A, weights, bias):\n",
    "    metrics[\"costs\"].append(cost(y_train, A))\n",
    "    trainPredictions = predict(x_train, weights, bias)\n",
    "    metrics[\"train_acc\"].append(accuracy(trainPredictions, y_train))\n",
    "    testPredictions = predict(x_test, weights, bias)\n",
    "    metrics[\"test_acc\"].append(accuracy(testPredictions, y_test))\n"
   ]
  },
  {
   "cell_type": "markdown",
   "metadata": {},
   "source": [
    "## Batch Gradient Descent\n"
   ]
  },
  {
   "cell_type": "code",
   "execution_count": 23,
   "metadata": {},
   "outputs": [
    {
     "name": "stdout",
     "output_type": "stream",
     "text": [
      "TrainAcc: 0.69, TestAcc: 0.68\n"
     ]
    },
    {
     "data": {
      "text/plain": [
       "<matplotlib.legend.Legend at 0x7f928637afb0>"
      ]
     },
     "execution_count": 23,
     "metadata": {},
     "output_type": "execute_result"
    },
    {
     "data": {
      "image/png": "[encoded data removed]",
      "text/plain": [
       "<Figure size 432x288 with 1 Axes>"
      ]
     },
     "metadata": {
      "needs_background": "light"
     },
     "output_type": "display_data"
    }
   ],
   "source": [
    "#Implementation of Batch Gradient Descent\n",
    "\n",
    "resetData()\n",
    "metrics = createMetrics() #keep track of our accuracy and cost while training\n",
    "\n",
    "#hyperparams\n",
    "#I played around with these manually \n",
    "epochs = 1000\n",
    "learning_rate = 0.01 \n",
    "\n",
    "#init our weight vector based on how many features we have in the data\n",
    "weights = np.zeros(x_train.shape[0])\n",
    "bias = 0\n",
    "\n",
    "#training loop\n",
    "for epoch in range(epochs):\n",
    "    A = forward(x_train, weights, bias)\n",
    "\n",
    "    #compute grads of the cost func\n",
    "    dw = dCostWRTw(x_train, A, y_train)\n",
    "    db = dCostWRTb(A, y_train)\n",
    "\n",
    "    #update the weights + bias with respect to our grads scaled by our learning rate hyperparm\n",
    "    weights = weights - learning_rate * dw\n",
    "    bias = bias - learning_rate * db\n",
    "\n",
    "    #Update metrics for this epoch for visualization \n",
    "    updateMetrics(metrics, A, weights, bias)\n",
    "\n",
    "print(f\"TrainAcc: {metrics['train_acc'][-1]:0.2f}, TestAcc: {metrics['test_acc'][-1]:0.2f}\")\n",
    "plt.plot(metrics[\"costs\"], label=\"Cost\")\n",
    "plt.plot(metrics[\"train_acc\"], label=\"Train Acc\")\n",
    "plt.plot(metrics[\"test_acc\"], label=\"Test Acc\")\n",
    "plt.xlabel(\"Epochs\")\n",
    "plt.title(\"Vanilla Batch Gradient Descent Results\")\n",
    "plt.legend()"
   ]
  },
  {
   "cell_type": "markdown",
   "metadata": {},
   "source": [
    "## Stochastic Gradient Descent"
   ]
  },
  {
   "cell_type": "code",
   "execution_count": 31,
   "metadata": {},
   "outputs": [
    {
     "name": "stdout",
     "output_type": "stream",
     "text": [
      "TrainAcc: 0.70, TestAcc: 0.69\n"
     ]
    },
    {
     "data": {
      "text/plain": [
       "<matplotlib.legend.Legend at 0x7f92863794b0>"
      ]
     },
     "execution_count": 31,
     "metadata": {},
     "output_type": "execute_result"
    },
    {
     "data": {
      "image/png": "[encoded data removed]",
      "text/plain": [
       "<Figure size 432x288 with 1 Axes>"
      ]
     },
     "metadata": {
      "needs_background": "light"
     },
     "output_type": "display_data"
    }
   ],
   "source": [
    "#Implementation of Stochastic Gradient Descent\n",
    "\n",
    "from sklearn.utils import shuffle #better than np.random.shuffle because i can do 2 in 1\n",
    "\n",
    "resetData()\n",
    "metrics = createMetrics() #keep track of our accuracy and cost while training\n",
    "\n",
    "#hyperparams\n",
    "#I played around with these manually \n",
    "epochs = 1\n",
    "learning_rate = 0.01\n",
    "\n",
    "#init our weight vector based on how many features we have in the data\n",
    "weights = np.zeros(x_train.shape[0])\n",
    "bias = 0\n",
    "\n",
    "#training loop\n",
    "for epoch in range(epochs):\n",
    "    x_shuff, y_shuff = shuffle(x_train.T, y_train)\n",
    "    for X, y in zip(x_shuff, y_shuff):\n",
    "        A = forward(X, weights, bias)\n",
    "        \n",
    "\n",
    "        #reshaping so that our functions work \n",
    "        A = np.array([A]) # 1 --> (1)\n",
    "        X = np.expand_dims(X, axis=1) # (51,) --> (51, 1)\n",
    "\n",
    "        #compute cost and grads of the cost\n",
    "        c = cost(y, A)\n",
    "        dw = dCostWRTw(X, A, y)\n",
    "        db = dCostWRTb(A, y)\n",
    "\n",
    "        #update the weights + bias with respect to our grads scaled by our learning rate hyperparm\n",
    "        weights = weights - learning_rate * dw\n",
    "        bias = bias - learning_rate * db\n",
    "\n",
    "        updateMetrics(metrics, A, weights, bias)\n",
    "    \n",
    "\n",
    "print(f\"TrainAcc: {metrics['train_acc'][-1]:0.2f}, TestAcc: {metrics['test_acc'][-1]:0.2f}\")\n",
    "plt.plot(metrics[\"train_acc\"], label=\"Train Acc\")\n",
    "plt.plot(metrics[\"test_acc\"], label=\"Test Acc\")\n",
    "plt.xlabel(\"Samples\")\n",
    "plt.title(\"Vanilla Stochastic Gradient Descent Results\")\n",
    "plt.legend()"
   ]
  },
  {
   "cell_type": "markdown",
   "metadata": {},
   "source": [
    "### Check\n",
    "\n",
    "I also double check my implementations against a scikit-learn logistic regression model just to make sure I'm not way off."
   ]
  },
  {
   "cell_type": "code",
   "execution_count": 26,
   "metadata": {},
   "outputs": [
    {
     "name": "stdout",
     "output_type": "stream",
     "text": [
      "TrainAcc: 0.72, TestAcc: 0.71\n"
     ]
    },
    {
     "name": "stderr",
     "output_type": "stream",
     "text": [
      "/home/james/.local/lib/python3.10/site-packages/sklearn/linear_model/_sag.py:350: ConvergenceWarning: The max_iter was reached which means the coef_ did not converge\n",
      "  warnings.warn(\n"
     ]
    }
   ],
   "source": [
    "#This is NOT my submission for task 3, the above cell is\n",
    "#This is just to double check my implementation's results against a working implementation\n",
    "\n",
    "resetData()\n",
    "\n",
    "from sklearn.linear_model import LogisticRegression\n",
    "m = LogisticRegression(penalty=\"none\", solver=\"sag\")\n",
    "m.fit(x_train.T, y_train)\n",
    "trainacc = m.score(x_train.T, y_train)\n",
    "testacc = m.score(x_test.T, y_test)\n",
    "print(f\"TrainAcc: {trainacc:0.2f}, TestAcc: {testacc:0.2f}\")"
   ]
  },
  {
   "cell_type": "markdown",
   "metadata": {},
   "source": [
    "# Task 4 (35 points) Optimization algorithms\n",
    "\n",
    "## Stochastic Gradient Descent with Momentum"
   ]
  },
  {
   "cell_type": "code",
   "execution_count": 102,
   "metadata": {},
   "outputs": [
    {
     "name": "stdout",
     "output_type": "stream",
     "text": [
      "TrainAcc: 0.69, TestAcc: 0.69\n"
     ]
    },
    {
     "data": {
      "text/plain": [
       "<matplotlib.legend.Legend at 0x7f927bb8fa30>"
      ]
     },
     "execution_count": 102,
     "metadata": {},
     "output_type": "execute_result"
    },
    {
     "data": {
      "image/png": "[encoded data removed]",
      "text/plain": [
       "<Figure size 432x288 with 1 Axes>"
      ]
     },
     "metadata": {
      "needs_background": "light"
     },
     "output_type": "display_data"
    }
   ],
   "source": [
    "#Implementation of Stochastic Gradient Descent with Momentum\n",
    "\n",
    "from sklearn.utils import shuffle #better than np.random.shuffle because i can do 2 in 1\n",
    "\n",
    "resetData()\n",
    "metrics = createMetrics() #keep track of our accuracy and cost while training\n",
    "\n",
    "#hyperparams\n",
    "#I played around with these manually \n",
    "epochs = 1\n",
    "learning_rate = 0.01\n",
    "gamma = 0.015 #for \"air resistance\" used in momentum\n",
    "\n",
    "#init our weight vector based on how many features we have in the data\n",
    "weights = np.zeros(x_train.shape[0])\n",
    "bias = 0\n",
    "\n",
    "#initial momentum\n",
    "vwt = 0 \n",
    "vbt = 0\n",
    "\n",
    "#training loop\n",
    "for epoch in range(epochs):\n",
    "    x_shuff, y_shuff = shuffle(x_train.T, y_train)\n",
    "    for X, y in zip(x_shuff, y_shuff):\n",
    "        A = forward(X, weights, bias)\n",
    "\n",
    "        #reshaping so that our functions work \n",
    "        A = np.array([A]) # 1 --> (1)\n",
    "        X = np.expand_dims(X, axis=1) # (51,) --> (51, 1)\n",
    "\n",
    "        #compute grads of the cost func\n",
    "        dw = dCostWRTw(X, A, y)\n",
    "        db = dCostWRTb(A, y)\n",
    "\n",
    "        #update the weights + bias with respect to our grads and momentum\n",
    "        vwt = gamma * vwt + learning_rate * dw\n",
    "        vbt = gamma * vbt + learning_rate * db\n",
    "        weights = weights - vwt\n",
    "        bias = bias - vbt\n",
    "\n",
    "        updateMetrics(metrics, A, weights, bias)\n",
    "    \n",
    "\n",
    "print(f\"TrainAcc: {metrics['train_acc'][-1]:0.2f}, TestAcc: {metrics['test_acc'][-1]:0.2f}\")\n",
    "plt.plot(metrics[\"train_acc\"], label=\"Train Acc\")\n",
    "plt.plot(metrics[\"test_acc\"], label=\"Test Acc\")\n",
    "plt.xlabel(\"Samples\")\n",
    "plt.title(\"Stochastic Gradient Descent with Momentum Results\")\n",
    "plt.legend()"
   ]
  },
  {
   "cell_type": "markdown",
   "metadata": {},
   "source": [
    "## Stochastic Gradient Descent with Adagrad"
   ]
  },
  {
   "cell_type": "code",
   "execution_count": 110,
   "metadata": {},
   "outputs": [
    {
     "name": "stderr",
     "output_type": "stream",
     "text": [
      "/tmp/ipykernel_3157145/2246580379.py:23: RuntimeWarning: divide by zero encountered in log\n",
      "  return Y*np.log(A) + (1-Y)*np.log(1-A)\n",
      "/tmp/ipykernel_3157145/2246580379.py:23: RuntimeWarning: invalid value encountered in multiply\n",
      "  return Y*np.log(A) + (1-Y)*np.log(1-A)\n"
     ]
    },
    {
     "name": "stdout",
     "output_type": "stream",
     "text": [
      "TrainAcc: 0.68, TestAcc: 0.68\n"
     ]
    },
    {
     "data": {
      "text/plain": [
       "<matplotlib.legend.Legend at 0x7f927b9d4460>"
      ]
     },
     "execution_count": 110,
     "metadata": {},
     "output_type": "execute_result"
    },
    {
     "data": {
      "image/png": "[encoded data removed]",
      "text/plain": [
       "<Figure size 432x288 with 1 Axes>"
      ]
     },
     "metadata": {
      "needs_background": "light"
     },
     "output_type": "display_data"
    }
   ],
   "source": [
    "#Implementation of Stochastic Gradient Descent with Adagrad\n",
    "\n",
    "from sklearn.utils import shuffle #better than np.random.shuffle because i can do 2 in 1\n",
    "\n",
    "resetData()\n",
    "metrics = createMetrics() #keep track of our accuracy and cost while training\n",
    "\n",
    "#hyperparams\n",
    "#I played around with these manually \n",
    "epochs = 1\n",
    "learning_rate = 0.05 #best with 0.01 but setting it to 0.05 to show we can handle bad learning_rates\n",
    "epsilon = 1e-8 #smoothing term to avoid division by 0\n",
    "maxT = 200 #number of timesteps to keep recording previous grads up to, as computation rapidly becomes infeasible with this many params and weights\n",
    "\n",
    "#init our weight vector based on how many features we have in the data\n",
    "weights = np.zeros(x_train.shape[0])\n",
    "bias = 0\n",
    "\n",
    "#previous gradients\n",
    "prev_gw = []\n",
    "prev_gb = []\n",
    "\n",
    "#training loop\n",
    "for epoch in range(epochs):\n",
    "    x_shuff, y_shuff = shuffle(x_train.T, y_train)\n",
    "    for t, (X, y) in enumerate(zip(x_shuff, y_shuff)):\n",
    "\n",
    "        A = forward(X, weights, bias)\n",
    "\n",
    "        #reshaping so that our functions work \n",
    "        A = np.reshape(A, (1))\n",
    "        X = np.expand_dims(X, axis=1) # (51,) --> (51, 1)\n",
    "\n",
    "        #compute grads of the cost func\n",
    "        gw = dCostWRTw(X, A, y)\n",
    "        gb = dCostWRTb(A, y)\n",
    "\n",
    "        if t <= maxT:\n",
    "            prev_gw.append(gw)\n",
    "            prev_gb.append(gb)\n",
    "            Gw = np.sum(np.array([np.outer(gwt, gwt) for gwt in prev_gw]), axis=0)\n",
    "            Gb = np.sum(np.array([np.outer(gbt, gbt) for gbt in prev_gb]), axis=0)\n",
    "\n",
    "        #update the weights + bias with respect to our grads and momentum\n",
    "        weights = weights - (learning_rate / (np.sqrt(np.diag(Gw) + epsilon))) * gw\n",
    "        bias = bias - (learning_rate / (np.sqrt(np.diag(Gb) + epsilon))) * gb\n",
    "\n",
    "        updateMetrics(metrics, A, weights, bias)\n",
    "    \n",
    "\n",
    "print(f\"TrainAcc: {metrics['train_acc'][-1]:0.2f}, TestAcc: {metrics['test_acc'][-1]:0.2f}\")\n",
    "plt.plot(metrics[\"train_acc\"], label=\"Train Acc\")\n",
    "plt.plot(metrics[\"test_acc\"], label=\"Test Acc\")\n",
    "plt.xlabel(\"Samples\")\n",
    "plt.title(\"Stochastic Gradient Descent with Adagrad Results\")\n",
    "plt.legend()"
   ]
  },
  {
   "cell_type": "markdown",
   "metadata": {},
   "source": [
    "### Conclusions about Optimization \n",
    "\n",
    "For the dataset, optimization did not play a significant role in improving the final results, we get the same accuracy with and without optimization for both of my implemented optimization techniques. Comparing the benefits of each optimization technique can be done with the performance graphs. SGD with momentum is supposed to give faster convergence and reduced oscillation; From my graphs it is clear that compared to default SGD, SGD with momentum converges slightly faster and has greatly reduced oscillation for this task. For Adagrad, it appears to converge slightly faster than others, presumably because it is able to optimize the learning rate intelligently rather than via manually tweaking it. Messing around with the learning_rate shows that we are far less susceptible to selection. I think optimization is valuable for the task at hand due to the benefits of faster convergence and more leeway on hyperparameter selection. In a larger model with more data and more features on this same task where convergence is slower, the faster convergence would be very beneficial for model speed. The ability to get away without manually tweaking the learning_rate seems to be beneficial for this task and does not result in the potential drawback of the learning_rate going to zero, which was not encountered.  "
   ]
  }
 ],
 "metadata": {
  "kernelspec": {
   "display_name": "Python 3.10.6 64-bit",
   "language": "python",
   "name": "python3"
  },
  "language_info": {
   "codemirror_mode": {
    "name": "ipython",
    "version": 3
   },
   "file_extension": ".py",
   "mimetype": "text/x-python",
   "name": "python",
   "nbconvert_exporter": "python",
   "pygments_lexer": "ipython3",
   "version": "3.10.6"
  },
  "orig_nbformat": 4,
  "vscode": {
   "interpreter": {
    "hash": "e7370f93d1d0cde622a1f8e1c04877d8463912d04d973331ad4851f04de6915a"
   }
  }
 },
 "nbformat": 4,
 "nbformat_minor": 2
}
