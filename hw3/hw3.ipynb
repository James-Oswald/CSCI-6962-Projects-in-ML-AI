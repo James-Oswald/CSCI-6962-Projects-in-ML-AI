{
 "cells": [
  {
   "cell_type": "markdown",
   "metadata": {},
   "source": [
    "# Task 1: Resources (10 Points) \n",
    "Assuming you are not familiar with the framework, in this part of the \n",
    "homework you will present your research describing the resources you used to learn the \n",
    "framework (must include links to all resources). Clearly explain why you needed a particular \n",
    "resource for implementing a 2-layer Neural Network (NN). (Consider how you will keep track of \n",
    "all the computations in a NN i.e., what libraries/tools do you need within this framework.)"
   ]
  },
  {
   "cell_type": "markdown",
   "metadata": {},
   "source": [
    "# Task 2: Data & Implementation (60 Points)\n",
    "Once you have figured the resources you need for the project, design, and \n",
    "implement your project. The project must include the following steps (it’s not limited to these \n",
    "steps): \n",
    "1. Exploratory Data Analysis (Can include data cleaning, visualization etc.) \n",
    "2. Perform a train-dev-test split. \n",
    "3. Implement forward propagation (clearly describe the activation functions and other \n",
    "hyper-parameters you are using). \n",
    "Projects in Machine Learning and AI (RPI Fall 2022) \n",
    "4. Compute the final cost function. \n",
    "5. Implement gradient descent (any variant of gradient descent depending upon your \n",
    "data and project can be used) to train your model. In this step it is up to you as someone \n",
    "in charge of their project to improvise using optimization algorithms (Adams, RMSProp \n",
    "etc.) and/or regularization.  \n",
    "6. Present the results using the test set. \n",
    "\n",
    "NOTE: In this step, once you have implemented your 2-layer network you may increase and/or \n",
    "decrease the number of layers as part of the hyperparameter tuning process."
   ]
  },
  {
   "cell_type": "markdown",
   "metadata": {},
   "source": [
    "# Task 3: Hyperparameter Justification (10 Points)\n",
    "In task 2 describe how you selected the hyperparameters. What was the \n",
    "rationale behind the technique you used? Did you use regularization? Why, or why not? Did you use \n",
    "an optimization algorithm? Why or why not?"
   ]
  },
  {
   "cell_type": "markdown",
   "metadata": {},
   "source": [
    "# Task 4: Baseline Comparision (20 Points)\n",
    "Create another baseline model (can be any model we covered so far except a \n",
    "deep learning model). Using the same training data (as above) train your model and evaluate \n",
    "results using the test set. Compare the results of both models (the Neural Network and the \n",
    "baseline model). What are the reasons for one model performing better (or not) than the \n",
    "other? Explain."
   ]
  }
 ],
 "metadata": {
  "language_info": {
   "name": "python"
  },
  "orig_nbformat": 4
 },
 "nbformat": 4,
 "nbformat_minor": 2
}
