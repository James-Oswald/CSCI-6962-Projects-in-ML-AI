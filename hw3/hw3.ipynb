{
 "cells": [
  {
   "cell_type": "markdown",
   "metadata": {},
   "source": [
    "# Task 1 (10 points):\n",
    "\n",
    "### Prompt\n",
    "Assuming you are not familiar with the framework, in this part of the \n",
    "homework you will present your research describing the resources you used to learn the \n",
    "framework (must include links to all resources). Clearly explain why you needed a particular \n",
    "resource for implementing a 2-layer Neural Network (NN). (Consider how you will keep track of \n",
    "all the computations in a NN i.e., what libraries/tools do you need within this framework.) "
   ]
  },
  {
   "cell_type": "markdown",
   "metadata": {},
   "source": [
    "# Task 2 (60 points): \n",
    "\n",
    "### Prompt\n",
    "Once you have figured the resources you need for the project, design, and \n",
    "implement your project. The project must include the following steps (it’s not limited to these \n",
    "steps): \n",
    "1. Exploratory Data Analysis (Can include data cleaning, visualization etc.) \n",
    "2. Perform a train-dev-test split. \n",
    "3. Implement forward propagation (clearly describe the activation functions and other \n",
    "hyper-parameters you are using). \n",
    "4. Compute the final cost function. \n",
    "5. Implement gradient descent (any variant of gradient descent depending upon your \n",
    "data and project can be used) to train your model. In this step it is up to you as someone \n",
    "in charge of their project to improvise using optimization algorithms (Adams, RMSProp \n",
    "etc.) and/or regularization.  \n",
    "6. Present the results using the test set. \n",
    "\n",
    "NOTE: In this step, once you have implemented your 2-layer network you may increase and/or \n",
    "decrease the number of layers as part of the hyperparameter tuning process\n"
   ]
  },
  {
   "cell_type": "markdown",
   "metadata": {},
   "source": [
    "# Task 3 (10 points): \n",
    "\n",
    "In task 2 describe how you selected the hyperparameters. What was the \n",
    "rationale behind the technique you used? Did you use regularization? Why, or why not? Did you use \n",
    "an optimization algorithm? Why or why not? "
   ]
  },
  {
   "cell_type": "code",
   "execution_count": null,
   "metadata": {},
   "outputs": [],
   "source": []
  }
 ],
 "metadata": {
  "kernelspec": {
   "display_name": "Python 3.8.5 64-bit",
   "language": "python",
   "name": "python3"
  },
  "language_info": {
   "name": "python",
   "version": "3.8.5"
  },
  "orig_nbformat": 4,
  "vscode": {
   "interpreter": {
    "hash": "ab78668dad5b34b81afbaf42b5eb69b6e10e1cebe9b39ab39eaa029e8533d83d"
   }
  }
 },
 "nbformat": 4,
 "nbformat_minor": 2
}
